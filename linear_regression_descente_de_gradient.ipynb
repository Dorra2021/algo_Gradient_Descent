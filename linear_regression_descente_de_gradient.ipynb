{
  "nbformat": 4,
  "nbformat_minor": 0,
  "metadata": {
    "colab": {
      "name": "linear_regression_descente_de_gradient.ipynb",
      "provenance": [],
      "authorship_tag": "ABX9TyPIcWX5rClWa4lpnDf3m0Te",
      "include_colab_link": true
    },
    "kernelspec": {
      "name": "python3",
      "display_name": "Python 3"
    },
    "language_info": {
      "name": "python"
    }
  },
  "cells": [
    {
      "cell_type": "markdown",
      "metadata": {
        "id": "view-in-github",
        "colab_type": "text"
      },
      "source": [
        "<a href=\"https://colab.research.google.com/github/Dorra2021/algo_Gradient_Descent/blob/main/linear_regression_descente_de_gradient.ipynb\" target=\"_parent\"><img src=\"https://colab.research.google.com/assets/colab-badge.svg\" alt=\"Open In Colab\"/></a>"
      ]
    },
    {
      "cell_type": "code",
      "execution_count": 1,
      "metadata": {
        "id": "yKpr3sYw5M3i",
        "outputId": "681d03a7-28c1-468a-f6d4-f8fec1b3f801",
        "colab": {
          "base_uri": "https://localhost:8080/"
        }
      },
      "outputs": [
        {
          "output_type": "stream",
          "name": "stdout",
          "text": [
            "Mounted at drive/\n"
          ]
        }
      ],
      "source": [
        "import os\n",
        "from google.colab import drive\n",
        "drive.mount(\"drive/\")"
      ]
    },
    {
      "cell_type": "code",
      "source": [
        "os.chdir(\"drive/My Drive/RNN\")"
      ],
      "metadata": {
        "id": "9GWdiqzA5QM0"
      },
      "execution_count": 2,
      "outputs": []
    },
    {
      "cell_type": "code",
      "source": [
        "import numpy\n",
        "import pandas\n",
        "import matplotlib.pyplot as plt\n",
        "import seaborn"
      ],
      "metadata": {
        "id": "wAhrjd0P5lyK"
      },
      "execution_count": 3,
      "outputs": []
    },
    {
      "cell_type": "code",
      "source": [
        "df = pandas.read_csv(\"number of travelers.csv\")"
      ],
      "metadata": {
        "id": "C4isXkK05nwC"
      },
      "execution_count": 4,
      "outputs": []
    },
    {
      "cell_type": "code",
      "source": [
        "df.head()"
      ],
      "metadata": {
        "id": "S-8fZya41BYq",
        "colab": {
          "base_uri": "https://localhost:8080/",
          "height": 206
        },
        "outputId": "896cf35f-e7b2-4881-f559-9fb55dc07b2b"
      },
      "execution_count": 5,
      "outputs": [
        {
          "output_type": "execute_result",
          "data": {
            "text/plain": [
              "        month  passengers\n",
              "0  2000-01-01       46492\n",
              "1  2000-02-01       48526\n",
              "2  2000-03-01       58764\n",
              "3  2000-04-01       56033\n",
              "4  2000-05-01       58201"
            ],
            "text/html": [
              "\n",
              "  <div id=\"df-f1412ee7-a95d-4746-959a-c1bd2a0643f8\">\n",
              "    <div class=\"colab-df-container\">\n",
              "      <div>\n",
              "<style scoped>\n",
              "    .dataframe tbody tr th:only-of-type {\n",
              "        vertical-align: middle;\n",
              "    }\n",
              "\n",
              "    .dataframe tbody tr th {\n",
              "        vertical-align: top;\n",
              "    }\n",
              "\n",
              "    .dataframe thead th {\n",
              "        text-align: right;\n",
              "    }\n",
              "</style>\n",
              "<table border=\"1\" class=\"dataframe\">\n",
              "  <thead>\n",
              "    <tr style=\"text-align: right;\">\n",
              "      <th></th>\n",
              "      <th>month</th>\n",
              "      <th>passengers</th>\n",
              "    </tr>\n",
              "  </thead>\n",
              "  <tbody>\n",
              "    <tr>\n",
              "      <th>0</th>\n",
              "      <td>2000-01-01</td>\n",
              "      <td>46492</td>\n",
              "    </tr>\n",
              "    <tr>\n",
              "      <th>1</th>\n",
              "      <td>2000-02-01</td>\n",
              "      <td>48526</td>\n",
              "    </tr>\n",
              "    <tr>\n",
              "      <th>2</th>\n",
              "      <td>2000-03-01</td>\n",
              "      <td>58764</td>\n",
              "    </tr>\n",
              "    <tr>\n",
              "      <th>3</th>\n",
              "      <td>2000-04-01</td>\n",
              "      <td>56033</td>\n",
              "    </tr>\n",
              "    <tr>\n",
              "      <th>4</th>\n",
              "      <td>2000-05-01</td>\n",
              "      <td>58201</td>\n",
              "    </tr>\n",
              "  </tbody>\n",
              "</table>\n",
              "</div>\n",
              "      <button class=\"colab-df-convert\" onclick=\"convertToInteractive('df-f1412ee7-a95d-4746-959a-c1bd2a0643f8')\"\n",
              "              title=\"Convert this dataframe to an interactive table.\"\n",
              "              style=\"display:none;\">\n",
              "        \n",
              "  <svg xmlns=\"http://www.w3.org/2000/svg\" height=\"24px\"viewBox=\"0 0 24 24\"\n",
              "       width=\"24px\">\n",
              "    <path d=\"M0 0h24v24H0V0z\" fill=\"none\"/>\n",
              "    <path d=\"M18.56 5.44l.94 2.06.94-2.06 2.06-.94-2.06-.94-.94-2.06-.94 2.06-2.06.94zm-11 1L8.5 8.5l.94-2.06 2.06-.94-2.06-.94L8.5 2.5l-.94 2.06-2.06.94zm10 10l.94 2.06.94-2.06 2.06-.94-2.06-.94-.94-2.06-.94 2.06-2.06.94z\"/><path d=\"M17.41 7.96l-1.37-1.37c-.4-.4-.92-.59-1.43-.59-.52 0-1.04.2-1.43.59L10.3 9.45l-7.72 7.72c-.78.78-.78 2.05 0 2.83L4 21.41c.39.39.9.59 1.41.59.51 0 1.02-.2 1.41-.59l7.78-7.78 2.81-2.81c.8-.78.8-2.07 0-2.86zM5.41 20L4 18.59l7.72-7.72 1.47 1.35L5.41 20z\"/>\n",
              "  </svg>\n",
              "      </button>\n",
              "      \n",
              "  <style>\n",
              "    .colab-df-container {\n",
              "      display:flex;\n",
              "      flex-wrap:wrap;\n",
              "      gap: 12px;\n",
              "    }\n",
              "\n",
              "    .colab-df-convert {\n",
              "      background-color: #E8F0FE;\n",
              "      border: none;\n",
              "      border-radius: 50%;\n",
              "      cursor: pointer;\n",
              "      display: none;\n",
              "      fill: #1967D2;\n",
              "      height: 32px;\n",
              "      padding: 0 0 0 0;\n",
              "      width: 32px;\n",
              "    }\n",
              "\n",
              "    .colab-df-convert:hover {\n",
              "      background-color: #E2EBFA;\n",
              "      box-shadow: 0px 1px 2px rgba(60, 64, 67, 0.3), 0px 1px 3px 1px rgba(60, 64, 67, 0.15);\n",
              "      fill: #174EA6;\n",
              "    }\n",
              "\n",
              "    [theme=dark] .colab-df-convert {\n",
              "      background-color: #3B4455;\n",
              "      fill: #D2E3FC;\n",
              "    }\n",
              "\n",
              "    [theme=dark] .colab-df-convert:hover {\n",
              "      background-color: #434B5C;\n",
              "      box-shadow: 0px 1px 3px 1px rgba(0, 0, 0, 0.15);\n",
              "      filter: drop-shadow(0px 1px 2px rgba(0, 0, 0, 0.3));\n",
              "      fill: #FFFFFF;\n",
              "    }\n",
              "  </style>\n",
              "\n",
              "      <script>\n",
              "        const buttonEl =\n",
              "          document.querySelector('#df-f1412ee7-a95d-4746-959a-c1bd2a0643f8 button.colab-df-convert');\n",
              "        buttonEl.style.display =\n",
              "          google.colab.kernel.accessAllowed ? 'block' : 'none';\n",
              "\n",
              "        async function convertToInteractive(key) {\n",
              "          const element = document.querySelector('#df-f1412ee7-a95d-4746-959a-c1bd2a0643f8');\n",
              "          const dataTable =\n",
              "            await google.colab.kernel.invokeFunction('convertToInteractive',\n",
              "                                                     [key], {});\n",
              "          if (!dataTable) return;\n",
              "\n",
              "          const docLinkHtml = 'Like what you see? Visit the ' +\n",
              "            '<a target=\"_blank\" href=https://colab.research.google.com/notebooks/data_table.ipynb>data table notebook</a>'\n",
              "            + ' to learn more about interactive tables.';\n",
              "          element.innerHTML = '';\n",
              "          dataTable['output_type'] = 'display_data';\n",
              "          await google.colab.output.renderOutput(dataTable, element);\n",
              "          const docLink = document.createElement('div');\n",
              "          docLink.innerHTML = docLinkHtml;\n",
              "          element.appendChild(docLink);\n",
              "        }\n",
              "      </script>\n",
              "    </div>\n",
              "  </div>\n",
              "  "
            ]
          },
          "metadata": {},
          "execution_count": 5
        }
      ]
    },
    {
      "cell_type": "code",
      "source": [
        "plt.figure(figsize=(20, 8))\n",
        "seaborn.scatterplot(x=\"month\", y=\"passengers\", data=df)\n",
        "plt.show()"
      ],
      "metadata": {
        "id": "EF3gBjoL5vhp",
        "colab": {
          "base_uri": "https://localhost:8080/",
          "height": 497
        },
        "outputId": "531b0a20-ff4a-4332-cb58-969b6675dadd"
      },
      "execution_count": 6,
      "outputs": [
        {
          "output_type": "display_data",
          "data": {
            "text/plain": [
              "<Figure size 1440x576 with 1 Axes>"
            ],
            "image/png": "[encoded data removed]"
          },
          "metadata": {
            "needs_background": "light"
          }
        }
      ]
    },
    {
      "cell_type": "code",
      "source": [
        "index_split = len(df)*0.8\n",
        "df_train = df.loc[:index_split]\n",
        "df_test = df.loc[index_split:]"
      ],
      "metadata": {
        "id": "mIAaKZnJ53hi"
      },
      "execution_count": 7,
      "outputs": []
    },
    {
      "cell_type": "code",
      "source": [
        "t_train = [index for index in range(len(df_train))]\n",
        "t_test = [index for index in range(len(df_test))]\n",
        "\n",
        "y_train = df_train[\"passengers\"].values\n",
        "y_test = df_test[\"passengers\"].values"
      ],
      "metadata": {
        "id": "n-Fr8jnu6ACx"
      },
      "execution_count": 8,
      "outputs": []
    },
    {
      "cell_type": "markdown",
      "source": [
        "## Linear regression using Gradient Descent"
      ],
      "metadata": {
        "id": "V569Pr4Y5Ufb"
      }
    },
    {
      "cell_type": "code",
      "source": [
        "#cette fct elle prend un temps et elle nous renvois le nombre des passagers\n",
        "def predict(t):\n",
        "  return coeff[0]*t + coeff[1]"
      ],
      "metadata": {
        "id": "4crXZNzn6R0M"
      },
      "execution_count": 13,
      "outputs": []
    },
    {
      "cell_type": "code",
      "source": [
        "def loss(predictions, y):\n",
        "  dataset_length = len(predictions)\n",
        "  return (1/2*dataset_length) * sum([(predictions[index_value] - y_train[index_value])**2 for index_value in range(dataset_length)])"
      ],
      "metadata": {
        "id": "RakaVhxs7myB"
      },
      "execution_count": 14,
      "outputs": []
    },
    {
      "cell_type": "code",
      "source": [
        "#on va parcourir les epoch\n",
        "#map applique une fct à chaque element d'une liste\n",
        "def gradient_descent(t_train, y_train, coeff,epochs=200000, learning_rate=0.0001):\n",
        "  dataset_length = len(t_train)\n",
        "\n",
        "  for index_epoch in range(epochs):\n",
        "    predictions = list(map(predict, t_train))\n",
        "\n",
        "    dloss_da = (1/dataset_length)*numpy.sum([(predictions[t] - y_train[t])*t for t in range(dataset_length)])\n",
        "    dloss_db = (1/dataset_length)*numpy.sum([(predictions[t] - y_train[t]) for t in range(dataset_length)])\n",
        "\n",
        "    coeff[0] = coeff[0] - learning_rate*dloss_da#   a\n",
        "    coeff[1] = coeff[1] - learning_rate*dloss_db#   b\n",
        "    \n",
        "    if index_epoch % 10000 == 0:\n",
        "      print(f\"loss = {loss(predictions, y_train)}\")\n",
        "\n",
        "#on va appliquer à chaque element de t train la fct predict\n",
        "    #on va coder la derivée partielle par rapport à a et par rapport à b\n"
      ],
      "metadata": {
        "id": "9ENnlzZF7p_I"
      },
      "execution_count": 15,
      "outputs": []
    },
    {
      "cell_type": "code",
      "source": [
        "coeff = [0, 0]\n",
        "gradient_descent(t_train, y_train, coeff)\n",
        "print(\"y={:.3f} t + {:.3f}\".format(coeff[0], coeff[1]))"
      ],
      "metadata": {
        "colab": {
          "base_uri": "https://localhost:8080/"
        },
        "id": "RzwzAQ_wQ0Do",
        "outputId": "0fbcdd48-e1d6-4eed-aca7-dc02f22b01ac"
      },
      "execution_count": 16,
      "outputs": [
        {
          "output_type": "stream",
          "name": "stdout",
          "text": [
            "loss = 67176298112470.0\n",
            "loss = 8907508351719.172\n",
            "loss = 5648152315672.873\n",
            "loss = 3678892420402.4463\n",
            "loss = 2489091584828.648\n",
            "loss = 1770229624692.258\n",
            "loss = 1335902716960.6958\n",
            "loss = 1073488132185.8281\n",
            "loss = 914940703793.1725\n",
            "loss = 819148440297.2897\n",
            "loss = 761272019098.3115\n",
            "loss = 726303849346.844\n",
            "loss = 705176542743.6484\n",
            "loss = 692411702962.8259\n",
            "loss = 684699355256.126\n",
            "loss = 680039656570.486\n",
            "loss = 677224328130.089\n",
            "loss = 675523343847.187\n",
            "loss = 674495631595.5178\n",
            "loss = 673874701418.2953\n",
            "y=62.771 t + 53548.017\n"
          ]
        }
      ]
    },
    {
      "cell_type": "code",
      "source": [
        "t_mean = numpy.mean(t_train)\n",
        "y_mean = numpy.mean(y_train)\n",
        "\n",
        "a = numpy.sum([(t_train[index_value] - t_mean) * (y_train[index_value]- y_mean) for index_value in range(len(t_train))]) / numpy.sum([(t_train[index_value] - t_mean)**2 for index_value in range(len(t_train))])\n",
        "\n",
        "b = y_mean - a * t_mean\n",
        "print(a, b)"
      ],
      "metadata": {
        "id": "qa9GEkO7Q2LX",
        "outputId": "bc123690-ed75-48f0-be3f-81bbb9806ad0",
        "colab": {
          "base_uri": "https://localhost:8080/"
        }
      },
      "execution_count": 17,
      "outputs": [
        {
          "output_type": "stream",
          "name": "stdout",
          "text": [
            "60.048356457988355 53897.35778003312\n"
          ]
        }
      ]
    },
    {
      "cell_type": "code",
      "source": [
        "plt.figure(figsize=(20, 8))\n",
        "plt.scatter(t_train, y_train)\n",
        "plt.plot(t_train, list(map(predict, t_train)))\n",
        "plt.show()"
      ],
      "metadata": {
        "id": "eaUbOwgLQ6gP",
        "outputId": "23a94e22-6867-4a5f-db91-fe78c6de1d12",
        "colab": {
          "base_uri": "https://localhost:8080/",
          "height": 483
        }
      },
      "execution_count": 18,
      "outputs": [
        {
          "output_type": "display_data",
          "data": {
            "text/plain": [
              "<Figure size 1440x576 with 1 Axes>"
            ],
            "image/png": "[encoded data removed]"
          },
          "metadata": {
            "needs_background": "light"
          }
        }
      ]
    }
  ]
}